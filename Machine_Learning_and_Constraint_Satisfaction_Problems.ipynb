{
 "cells": [
  {
   "cell_type": "markdown",
   "metadata": {
    "deletable": false,
    "editable": false,
    "nbgrader": {
     "grade": false,
     "locked": true,
     "solution": false
    }
   },
   "source": [
    "# Machine Learning 3 & Constraint Satisfaction Problems\n",
    "\n",
    "---\n",
    "\n",
    "_Authors: Dhavide Aruliah_ and _Jacob Koehler_\n",
    "\n",
    "### Assignment Contents"
   ]
  },
  {
   "cell_type": "markdown",
   "metadata": {
    "deletable": false,
    "editable": false,
    "nbgrader": {
     "grade": false,
     "locked": true,
     "solution": false
    }
   },
   "source": [
    "- [Question 1: Implementing a Hard Threshold Activation Function](#q-threshold)\n",
    "- [Question 2: Implementing the Perceptron Classifier](#q-classifier)\n",
    "- [Question 3: Identifying Misclassified Points](#q-misclassified)\n",
    "- [Question 4: Building the actual Perceptron Iteration](#q-iteration)\n",
    "- [Question 5: Implementing SoftMax](#q-softmax)\n",
    "- [Question 6: Implementing ReLU](#q-relu)\n",
    "- [Question 7: Preprocessing the Digit Features](#q-features)\n",
    "- [Question 8: Preprocessing the Targets](#q-targets)\n",
    "- [Question 9: Using the `MLPClassifier`](#q-MLP)\n",
    "- [Question 10: Setting up the Keras Architecture](#q-architecture)\n",
    "- [Question 11: Fitting the Neural Network to Training Data](#q-fitting)\n",
    "- [Question 12: Assessing Neural Network Model Accuracy](#q-assessing)\n",
    "- [Question 13: Preprocessing the Housing Features](#q-housing-features)\n",
    "- [Question 14: Preparing the Neural Network for Regression](#q-housing-setup)\n",
    "- [Question 15: Evaluating the Neural Network for Regression](#q-housing-eval)\n",
    "- [Question 16: Verifying a Valid *N*-Queens Chessboard](#q-queens-valid)\n",
    "- [Question 17: Solving the *N*-Queens Problem by Backtracking](#q-queens-solving)\n",
    "- [Question 18: Determining a Flight Itinerary](#q-flights-small)"
   ]
  },
  {
   "cell_type": "markdown",
   "metadata": {
    "deletable": false,
    "editable": false,
    "nbgrader": {
     "grade": false,
     "locked": true,
     "solution": false
    }
   },
   "source": [
    "This assignment provides an opportunity to get used to *artificial neural networks* for supervised machine learning. We'll do this first by looking at the *perceptron* algorithm as an early example of a neural network. By building a simple program implementing the perceptron, you'll get a sense of the mathematical ideas underlying the training if neural networks. From there, you'll experiment with [Keras](https://keras.io/) as an example of a framework for building neural networks and solve a simple classification problem as well as a regression problem.\n",
    "\n",
    "You will also solve a few *Constraint Satisfaction Problems* by backtracking (including the famous $N$-Queens problem).\n",
    "\n",
    "The goals of the present assignment are:\n",
    "+ to get used to the core terminology used with neural networks: layers, units, activation functions, etc.\n",
    "+ to implement the simplest neural network algorithm (the perceptron) to build a conceptual foundation on which neural networks are built.\n",
    "+ to solve som simple problems using a neural networks framework.\n",
    "+ to develop simple recursive functions for backtracking."
   ]
  },
  {
   "cell_type": "code",
   "execution_count": 2,
   "metadata": {
    "collapsed": true,
    "deletable": false,
    "editable": false,
    "nbgrader": {
     "grade": false,
     "locked": true,
     "solution": false
    }
   },
   "outputs": [],
   "source": [
    "# Standard boilerplate for Python for data science\n",
    "%matplotlib inline\n",
    "import numpy as np, pandas as pd\n",
    "import matplotlib.pyplot as plt\n",
    "from warnings import filterwarnings\n",
    "filterwarnings('ignore')"
   ]
  },
  {
   "cell_type": "markdown",
   "metadata": {
    "deletable": false,
    "editable": false,
    "nbgrader": {
     "grade": false,
     "locked": true,
     "solution": false
    }
   },
   "source": [
    "## The Perceptron\n",
    "\n",
    "To begin, you will replicate one of the first models of an artificial Neural Network that came from [Frank Rosenblatt](https://en.wikipedia.org/wiki/Frank_Rosenblatt) in 1957. While working on research funded by the US Defense Department, Rosenblatt investigated a straightforward approach to developing a classification model. You will construct a basic implementation of the Perceptron from scratch before moving to the Keras library."
   ]
  },
  {
   "cell_type": "markdown",
   "metadata": {
    "deletable": false,
    "editable": false,
    "nbgrader": {
     "grade": false,
     "locked": true,
     "solution": false
    }
   },
   "source": [
    "[Back to top](#Assignment-Contents)\n",
    "\n",
    "---\n",
    "<a id=\"q-threshold\"></a>\n",
    "## Question 1: Implementing a Hard Threshold Activation Function\n",
    "\n",
    "Implement the hard threshold activation function `sign` with function signature `sign(t)` as given below.\n",
    "+ Your function should follow the convention\n",
    "  $$\\mathrm{sign}(t) = \\begin{cases} +1, & t\\ge0 \\\\ -1, &t<0 \\end{cases}$$\n",
    "  for any real value $t\\in\\mathbb{R}$.\n",
    "+ Make sure your function `sign` is [*vectorized*](https://docs.scipy.org/doc/numpy/glossary.html#term-vectorization) (i.e., is a [*universal function*](https://docs.scipy.org/doc/numpy/reference/ufuncs.html) in the parlance of Numpy). That is, it should accept a Numpy array as input and return a Numpy array of identical dimensions with entries $+1$ or $-1$ as required (i.e., the $\\text{sign}$ function should be applied elementwise to the array).\n",
    "+ Notice that `np.sign` won't work here (because `np.sign(0)==0` and you want `sign(0)==+1` instead).\n",
    "+ The function `np.where` is likely useful here."
   ]
  },
  {
   "cell_type": "code",
   "execution_count": 3,
   "metadata": {
    "collapsed": true,
    "nbgrader": {
     "grade": false,
     "grade_id": "Q-01",
     "locked": false,
     "points": "5",
     "solution": false
    }
   },
   "outputs": [],
   "source": [
    "### GRADED\n",
    "### QUESTION 1\n",
    "### Complete the body of the function sign (with signature below) in agreement with\n",
    "###   the details specified above.\n",
    "def sign(t):\n",
    "    \"Returns +1 for t>=0, -1 otherwise\"\n",
    "    return np.where(t >= 0, +1.0, -1.0)\n",
    "    \n",
    "###\n",
    "### YOUR CODE HERE\n",
    "###\n"
   ]
  },
  {
   "cell_type": "code",
   "execution_count": 4,
   "metadata": {
    "collapsed": true,
    "deletable": false,
    "editable": false,
    "nbgrader": {
     "grade": true,
     "grade_id": "Q-01",
     "locked": true,
     "points": "5",
     "solution": false
    }
   },
   "outputs": [],
   "source": [
    "###\n",
    "### AUTOGRADER TEST - DO NOT REMOVE\n",
    "###\n"
   ]
  },
  {
   "cell_type": "code",
   "execution_count": 5,
   "metadata": {},
   "outputs": [
    {
     "data": {
      "text/plain": [
       "array(-1.)"
      ]
     },
     "execution_count": 5,
     "metadata": {},
     "output_type": "execute_result"
    }
   ],
   "source": [
    "sign(-0.1)"
   ]
  },
  {
   "cell_type": "markdown",
   "metadata": {
    "deletable": false,
    "editable": false,
    "nbgrader": {
     "grade": false,
     "locked": true,
     "solution": false
    }
   },
   "source": [
    "[Back to top](#Assignment-Contents)\n",
    "\n",
    "---\n",
    "<a id=\"q-classifier\"></a>\n",
    "\n",
    "## Question 2: Implementing the Perceptron Classifier\n",
    "\n",
    "Implement the function $f_{\\mathrm{perceptron}}$ with the signature `f_perceptrion(X, w, b)`. Mathematically, it could be written as $f_{\\mathrm{perceptron}}(x) = \\mathrm{sign}(W x^T +b)$ where $x$ is a row vector (i.e., one-dimensional array) of length $d$, $W$ is a row vector of length $d$, and $b$ is a scalar.\n",
    "+ You will make the function more flexible by allowing for $N\\times d$ *feature matrices* $X$ as input. In that case, the function can be computed as $f_{\\mathrm{perceptron}}(x) = \\mathrm{sign}(W X^T + b)$ (in which case the output is a $1\\times N$ vector rather than a $1\\times 1$ scalar).\n",
    "+ Tip: If the conventions around row & column vectors are messy, consider using `np.squeeze` to reduce two-dimensional row or column vectors to one-dimensional vectors. Numpy is very permissive about computing matrix-vector products using one-dimensional arrays."
   ]
  },
  {
   "cell_type": "code",
   "execution_count": 6,
   "metadata": {
    "collapsed": true
   },
   "outputs": [],
   "source": [
    "### GRADED\n",
    "### QUESTION 2\n",
    "### Complete the function f_perceptron as specified above.\n",
    "###\n",
    "def f_perceptron(X, W, b):\n",
    "    'Returns sign(W X^T + b)'\n",
    "    return sign(np.squeeze(W)@X.T+ b)\n",
    "###\n",
    "### YOUR CODE HERE\n",
    "###\n"
   ]
  },
  {
   "cell_type": "code",
   "execution_count": 7,
   "metadata": {
    "collapsed": true,
    "deletable": false,
    "editable": false,
    "nbgrader": {
     "grade": true,
     "grade_id": "Q-02",
     "locked": true,
     "points": "8",
     "solution": false
    }
   },
   "outputs": [],
   "source": [
    "###\n",
    "### AUTOGRADER TEST - DO NOT REMOVE\n",
    "###\n"
   ]
  },
  {
   "cell_type": "markdown",
   "metadata": {
    "deletable": false,
    "editable": false,
    "nbgrader": {
     "grade": false,
     "locked": true,
     "solution": false
    }
   },
   "source": [
    "[Back to top](#Assignment-Contents)\n",
    "\n",
    "---\n",
    "<a id=\"q-misclassified\"></a>\n",
    "\n",
    "## Question 3: Identifying Misclassified Points\n",
    "\n",
    "Your task now is to write a function `find_misclassified` that identifies points that are misclassified by `f_perceptron` from above.\n",
    "+ The function signature is `find_misclassified(X, y, W, b)` with:\n",
    "  + $N\\times d$ *feature matrix* `X`;\n",
    "  + *weight vector* `W` of length $d$;\n",
    "  + (scalar) *bias* `b`; and\n",
    "  + target vector `y` of length $N$ with entries $+1$ or $-1$.\n",
    "  The inputs `X`, `W`, and `b` are exactly as required for evaluating `f_perceptron`.\n",
    "+ The output computed by the function `find_misclassified` is a one-dimensional Numpy array or a list of integers corresponding to rows of the input `X` that are misclassified by $f_{\\mathrm{perceptron}}$. That is, `find_misclassified` returns the rows $k$ between $0$ and $N-1$ for which\n",
    "  $$f_{\\mathrm{perceptron}}(X_{k,:}, W, b) \\neq y_{k},$$\n",
    "  where $X_{k,:}$ refers to the $k$th row of the $N\\times d$ matrix $X$.\n",
    "+ The row indices output by `find_misclassified` should be sorted in increasing order."
   ]
  },
  {
   "cell_type": "code",
   "execution_count": 8,
   "metadata": {
    "collapsed": true
   },
   "outputs": [],
   "source": [
    "### GRADED\n",
    "### QUESTION 3\n",
    "### Complete the function find_misclassified as specified above.\n",
    "###\n",
    "def find_misclassified(X, y, W, b):\n",
    "    'Returns 1D array of index values for which f_perceptron misclassifies rows of X'\n",
    "    return [i for i, (a, b) in enumerate(zip(f_perceptron(X, W, b), y)) if a!=b]\n",
    "    #N,d = X.shape\n",
    "    #rows = np.arange(N)\n",
    "    #yhat = np.sqeeze(f_perceptron(X,W,b))\n",
    "    #M = rows[yhat != np.sqeeze(y)]\n",
    "    #return sorted(np.sqeeze(M)) if not len(M) else M\n",
    "    \n",
    "###\n",
    "### YOUR CODE HERE\n",
    "###\n"
   ]
  },
  {
   "cell_type": "code",
   "execution_count": 9,
   "metadata": {
    "collapsed": true,
    "deletable": false,
    "editable": false,
    "nbgrader": {
     "grade": true,
     "grade_id": "Q-03",
     "locked": true,
     "points": "10",
     "solution": false
    }
   },
   "outputs": [],
   "source": [
    "###\n",
    "### AUTOGRADER TEST - DO NOT REMOVE\n",
    "###\n"
   ]
  },
  {
   "cell_type": "markdown",
   "metadata": {
    "deletable": false,
    "editable": false,
    "nbgrader": {
     "grade": false,
     "locked": true,
     "solution": false
    }
   },
   "source": [
    "Given training data $X$ & $y$ for a binary classification problem, you are now ready to implement the perceptron algorithm to determine a classifier with parameters $W$ and $b$. The basic steps are:\n",
    "\n",
    "+ Fix a random seed for the iteration (optional, but useful for reproducibility)\n",
    "+ Initialize $W$ and $b$ with some random values;\n",
    "+ REPEAT:\n",
    "  + Compute the set $\\mathcal{M}$ of rows of $X$ misclassified by $f_{\\mathrm{perceptron}}(\\cdot , W, b)$\n",
    "  + Draw a row index $k$ from $\\mathcal{M}$ at random\n",
    "  + Use the $k$th row of $X$ and the $k$th entry of the label vector $y$ to update $W$ and $b$:\n",
    "    $$\\begin{aligned} W &\\leftarrow W + \\eta y_{k} X_{k,:} \\\\ b &\\leftarrow b + \\eta y_{k} \\end{aligned}$$\n",
    "    (above $\\eta$ is a user-specified *learning rate*).\n",
    "+ UNTIL convergence (i.e., until $\\mathcal{M}$ is empty or, optionally, if the number of iterations is too large).\n",
    "\n",
    "Your next task is to write a function that carries out this iteration."
   ]
  },
  {
   "cell_type": "markdown",
   "metadata": {
    "deletable": false,
    "editable": false,
    "nbgrader": {
     "grade": false,
     "locked": true,
     "solution": false
    }
   },
   "source": [
    "[Back to top](#Assignment-Contents)\n",
    "\n",
    "---\n",
    "<a id=\"q-iteration\"></a>\n",
    "## Question 4: Building the actual Perceptron Iteration\n",
    "\n",
    "+ The function `perceptron_iteration` with the signature `perceptron_iteration(X, y, eta=1.0, ITMAX=1000, random_state=None)`.\n",
    "  + the positional inputs `X` and `y` are exactly as before from `find_misclassified`.\n",
    "  + the optional keyword argument `eta` is the *learning rate* (default value `1.0`).\n",
    "  + the optional keyword argument `ITMAX` is the maximum number of iterations (default value `1000`).\n",
    "  + the optional keyword argument `random_state` is for seeding random number generation (default value `None`).\n",
    "+ Convergence is achieved when the set $\\mathcal{M}$ of row indices of misclassified points is *empty*.\n",
    "+ The function should return the weights $W$ and the bias term $b$ as a 2-tuple on convergence.\n",
    "+ If the iteration fails to converge within `ITMAX` iterations (i.e., if there are still points being misclassified), the function should return `None`."
   ]
  },
  {
   "cell_type": "code",
   "execution_count": 10,
   "metadata": {
    "collapsed": true
   },
   "outputs": [],
   "source": [
    "### GRADED\n",
    "### QUESTION 4\n",
    "### Complete the function perceptron_iteration as laid out below.\n",
    "###\n",
    "import random\n",
    "from random import choice\n",
    "def perceptron_iteration(X, y, eta=1.0, ITMAX=1000, random_state=None):\n",
    "    '''Applies the perceptron algorithm to compute weights W and bias b associated with a binary\n",
    "    classification problem defined by N by d feature matrix X and N-vector y of labels.\n",
    "    '''\n",
    "    np.random.seed(seed=random_state) # DO NOT CHANGE THIS LINE\n",
    "    N, d = X.shape\n",
    "    W, b = np.random.randn(d), np.random.randn(1)\n",
    "    #eta = 1.0\n",
    "    M = find_misclassified(X,y,W,b)\n",
    "    for iteration in range (ITMAX):\n",
    "        if len(M):\n",
    "            k = choice(M)\n",
    "            W = W + eta*y[k]*X[k, : ]\n",
    "            b = b + eta*y[k]\n",
    "            M = find_misclassified(X,y,W,b)\n",
    "            \n",
    "        else:\n",
    "            break\n",
    "    if iteration < ITMAX -1:\n",
    "        return (W,b)\n",
    "    else:\n",
    "        return (None,None)\n",
    "   # Determine misclassified rows of X\n",
    "   # ITERATE:\n",
    "       # Choose an index k from misclassified rows\n",
    "       # Compute updates to W and b\n",
    "       # Determine misclassified rows of X with new W and b\n",
    "   # Return W & b (unless convergence failed, so return (None, None))"
   ]
  },
  {
   "cell_type": "code",
   "execution_count": 11,
   "metadata": {
    "collapsed": true,
    "deletable": false,
    "editable": false,
    "nbgrader": {
     "grade": true,
     "grade_id": "Q-04",
     "locked": true,
     "points": "20",
     "solution": false
    }
   },
   "outputs": [],
   "source": [
    "###\n",
    "### AUTOGRADER TEST - DO NOT REMOVE\n",
    "###\n"
   ]
  },
  {
   "cell_type": "code",
   "execution_count": 12,
   "metadata": {},
   "outputs": [
    {
     "data": {
      "text/plain": [
       "3"
      ]
     },
     "execution_count": 12,
     "metadata": {},
     "output_type": "execute_result"
    }
   ],
   "source": [
    "from random import randrange\n",
    "movie_list = ['The Godfather', 'The Wizard of Oz', 'Citizen Kane', 'The Shawshank Redemption', 'Pulp Fiction']\n",
    "random_index = randrange(len(movie_list))\n",
    "item = movie_list[random_index]\n",
    "#print (\"Randomly selected item and its index is - \", item, \"Index - \", random_index)\n",
    "item\n",
    "random_index"
   ]
  },
  {
   "cell_type": "code",
   "execution_count": 13,
   "metadata": {},
   "outputs": [
    {
     "data": {
      "text/plain": [
       "2"
      ]
     },
     "execution_count": 13,
     "metadata": {},
     "output_type": "execute_result"
    }
   ],
   "source": [
    "import random\n",
    "from random import choice\n",
    "list_a = [[1,2,3,4,5],[6,7,8,9,5],[0,2,3,4,5]]\n",
    "list_b = [[1,2,3,4,5],[9,3,8,7,6],[1,6,4,9,3]]\n",
    "list_c = np.array([[1,3,5,7]])\n",
    "list_d = np.array([[2]])\n",
    "\n",
    "M = [i for i, (a, b) in enumerate(zip(list_a,list_b)) if a!=b]\n",
    "#for i in (M):\n",
    "#    print(list_a[i]@list_b[i])\n",
    "choice(M)"
   ]
  },
  {
   "cell_type": "markdown",
   "metadata": {
    "deletable": false,
    "editable": false,
    "nbgrader": {
     "grade": false,
     "locked": true,
     "solution": false
    }
   },
   "source": [
    "[Back to top](#Assignment-Contents)\n",
    "\n",
    "---\n",
    "## Neural networks\n",
    "\n",
    "Recognizing that the perceptron has two conceptual layers (an *input* layer and an *output* layer) that connects spaces of disparate dimensions, we can extend this model to more general functions. That is, we can build a *multi-layer perceptron* with multiple input layers, each associated with their own weight matrix, bias vector, and activation function. It is possible to use more general *network architectures* with these components to represent more sophisticated functions.\n",
    "\n",
    "A key component of this is the choice of *activation function*.\n",
    "\n",
    "+ For binary classification problems, the logistic activation function\n",
    "  $$ \\sigma(t) = \\frac{e^{t}}{1+e^t} $$\n",
    "  (as seen from logisitc regression) is useful for probabilities of belonging to one of the two classes.\n",
    "+ For multiclass classification problems, the $\\text{softmax}$ function is often used to provide probabilities of belonging to any of a number of classes. It is a mapping $x \\mapsto \\mathrm{softmax}(x)$ of a vector of length $d$ to another vector of length $d$ defined by\n",
    "  $$[\\mathrm{softmax}(x)]_{k} := \\frac{e^{x_k}}{\\sum_{i=1}^{d}e^{x_{i}}} = \\frac{\\exp(x_k)}{\\sum_{i=1}^{d} \\exp(x_i)} \\qquad(k=1,2,\\dotsc,d).$$\n",
    "  Notice that the nonnegative entries of $\\mathrm{softmax}(x)$ add up to $1$ so it is, in effect, a discrete probability mass function.\n",
    "+ The *ReLU* (\"rectified linear unit\") function is a piecewise linear function defined by\n",
    "  $$\\mathrm{relu}(t) = \\begin{cases} t, & t\\ge0 \\\\ 0, &t<0 \\end{cases}.$$\n",
    "  The ReLU function is often used in between internal layers of a regression models."
   ]
  },
  {
   "cell_type": "markdown",
   "metadata": {
    "deletable": false,
    "editable": false,
    "nbgrader": {
     "grade": false,
     "locked": true,
     "solution": false
    }
   },
   "source": [
    "[Back to top](#Assignment-Contents)\n",
    "\n",
    "---\n",
    "<a id=\"q-softmax\"></a>\n",
    "## Question 5: Implementing `softmax`\n",
    "\n",
    "For this task, you will complete the Python function `softmax` function defined by\n",
    "$$[\\mathrm{softmax}(x)]_{k} := \\frac{e^{x_k}}{\\sum_{i=1}^{d}e^{x_{i}}} = \\frac{\\exp(x_k)}{\\sum_{i=1}^{d} \\exp(x_i)}.$$\n",
    "+ To obtain a more numerically robust implementation, do the following: if $M=\\max_{i}(x_{i})$, then\n",
    "  $$[\\mathrm{softmax}(x)]_{k} = \\frac{\\exp(x_k - M)}{\\sum_{i=1}^{d} \\exp(x_i-M)}.$$\n",
    "  You will complete the function `softmax` using this version (which does not overflow for large values of $x_k$).\n",
    "+ Make sure your function is *vectorized* (i.e., is a *universal function* in the parlance of Numpy). That is, it should accept a Numpy array as input and return a Numpy array of identical dimensions with appropriate real-valued entries required (i.e., the $\\mathrm{softmax}$ function should be applied elementwise to the array)."
   ]
  },
  {
   "cell_type": "code",
   "execution_count": 14,
   "metadata": {
    "collapsed": true
   },
   "outputs": [],
   "source": [
    "### GRADED\n",
    "### QUESTION 5\n",
    "### Complete the function softmax as defined above.\n",
    "###\n",
    "def softmax(x):\n",
    "    'Returns smoothed version of max. function'\n",
    "    M = x.max()\n",
    "    vals = np.e**(x-M)\n",
    "    return vals/np.sum(vals)\n",
    "###\n",
    "### YOUR CODE HERE\n",
    "###\n"
   ]
  },
  {
   "cell_type": "code",
   "execution_count": 15,
   "metadata": {
    "collapsed": true,
    "deletable": false,
    "editable": false,
    "nbgrader": {
     "grade": true,
     "grade_id": "Q-05",
     "locked": true,
     "points": "5",
     "solution": false
    }
   },
   "outputs": [],
   "source": [
    "###\n",
    "### AUTOGRADER TEST - DO NOT REMOVE\n",
    "###\n"
   ]
  },
  {
   "cell_type": "markdown",
   "metadata": {
    "deletable": false,
    "editable": false,
    "nbgrader": {
     "grade": false,
     "locked": true,
     "solution": false
    }
   },
   "source": [
    "[Back to top](#Assignment-Contents)\n",
    "\n",
    "---\n",
    "<a id=\"q-relu\"></a>\n",
    "## Question 6: Implementing `relu`\n",
    "\n",
    "You task here is to complete the function `relu` (the *rectified linear unit* or \"ReLU\" function) with signature given below.\n",
    "+ Your function `relu` should follow the convention\n",
    "  $$\\mathrm{relu}(t) = \\begin{cases} t, & t\\ge0 \\\\ 0, &t<0 \\end{cases}$$\n",
    "  for any real value $t\\in\\mathbb{R}$.\n",
    "+ Make sure your function is *vectorized* (i.e., is a *universal function* in the parlance of Numpy). That is, it should accept a Numpy array as input and return a Numpy array of identical dimensions with appropriate real-valued entries required (i.e., the $\\mathrm{relu}$ function should be applied elementwise to the array).\n",
    "+ The function `np.where` is likely useful here."
   ]
  },
  {
   "cell_type": "code",
   "execution_count": 16,
   "metadata": {
    "collapsed": true
   },
   "outputs": [],
   "source": [
    "### GRADED\n",
    "### QUESTION 6\n",
    "### Complete the function relu as specified above.\n",
    "###\n",
    "def relu(t):\n",
    "    \"Returns t for t>=0, zero otherwise\"\n",
    "    return np.where(t>=0, t, 0.0)\n",
    "###\n",
    "### YOUR CODE HERE\n",
    "###\n"
   ]
  },
  {
   "cell_type": "code",
   "execution_count": 17,
   "metadata": {
    "collapsed": true,
    "deletable": false,
    "editable": false,
    "nbgrader": {
     "grade": true,
     "grade_id": "Q-06",
     "locked": true,
     "points": "4",
     "solution": false
    }
   },
   "outputs": [],
   "source": [
    "###\n",
    "### AUTOGRADER TEST - DO NOT REMOVE\n",
    "###\n"
   ]
  },
  {
   "cell_type": "markdown",
   "metadata": {
    "deletable": false,
    "editable": false,
    "nbgrader": {
     "grade": false,
     "locked": true,
     "solution": false
    }
   },
   "source": [
    "[Back to top](#Assignment-Contents)\n",
    "\n",
    "---\n",
    "## MNIST Digit Classification with Neural Networks\n",
    "\n",
    "In the next few exercises, you'll get a chance to solve the [MNIST handwritten digits classification problem](http://yann.lecun.com/exdb/mnist/) first using using Scikit-Learn, and then using [Keras](http://keras.io) (a framework for neural networks explicitly). The Keras package provides [utilities to work with numerous datasets](https://keras.io/datasets/), but we'll avoid those here (to limit needless network traffic). Instead, we've created a compressed Numpy file in the local `assets` folder that contains the relevant data. The next few lines extract the arrays `X_train`, `y_train`, `X_test`, and `y_test` from that file."
   ]
  },
  {
   "cell_type": "code",
   "execution_count": 18,
   "metadata": {
    "collapsed": true,
    "deletable": false,
    "editable": false,
    "nbgrader": {
     "grade": false,
     "locked": true,
     "solution": false
    }
   },
   "outputs": [],
   "source": [
    "d_file = np.load('assets/mnist.npz')\n",
    "X_train_orig = d_file['X_train']\n",
    "X_test_orig = d_file['X_test']\n",
    "y_train_orig = d_file['y_train'].reshape(-1,1)\n",
    "y_test_orig = d_file['y_test'].reshape(-1,1)"
   ]
  },
  {
   "cell_type": "code",
   "execution_count": 19,
   "metadata": {
    "nbgrader": {
     "grade": false,
     "locked": false,
     "solution": false
    }
   },
   "outputs": [
    {
     "name": "stdout",
     "output_type": "stream",
     "text": [
      "(60000, 28, 28) 47040000\n",
      "(10000, 28, 28) 7840000\n",
      "(60000, 1) 60000\n",
      "(10000, 1) 10000\n"
     ]
    }
   ],
   "source": [
    "for arr in [X_train_orig, X_test_orig, y_train_orig, y_test_orig]:\n",
    "    print(arr.shape, arr.nbytes)"
   ]
  },
  {
   "cell_type": "code",
   "execution_count": 20,
   "metadata": {},
   "outputs": [
    {
     "data": {
      "image/png": "[encoded data removed]",
      "text/plain": [
       "<Figure size 432x288 with 1 Axes>"
      ]
     },
     "metadata": {},
     "output_type": "display_data"
    }
   ],
   "source": [
    "# Extract a single image\n",
    "idx = 45621\n",
    "digit_image = X_train_orig[idx]\n",
    "plt.imshow(digit_image, cmap='gray')\n",
    "plt.axis('off')\n",
    "plt.title('Associated label: {}'.format(y_train_orig[idx]));"
   ]
  },
  {
   "cell_type": "markdown",
   "metadata": {
    "deletable": false,
    "editable": false,
    "nbgrader": {
     "grade": false,
     "locked": true,
     "solution": false
    }
   },
   "source": [
    "[Back to top](#Assignment-Contents)\n",
    "\n",
    "---\n",
    "<a id=\"q-features\"></a>\n",
    "## Question 7: Preprocessing the Digit Features\n",
    "\n",
    "As a first step, preprocess the features in the arrays `X_train_orig` & `X_test_orig`.\n",
    "\n",
    "+ Reshape the three-dimensional arrays into two-dimensional arrays.\n",
    " + Numpy arrays have a method for reshaping (or use the function `np.reshape`).\n",
    "+ Rescale the integer values to be real values between 0 and 1.\n",
    " + Divide the arrays by 255.0 (the grayscale images have integer values between 0 & 255 by default).\n",
    "+ Bind the rescaled & reshaped training & testing arrays to `X_train` & `X_test` respectively."
   ]
  },
  {
   "cell_type": "code",
   "execution_count": 21,
   "metadata": {},
   "outputs": [
    {
     "name": "stdout",
     "output_type": "stream",
     "text": [
      "X_train: (60000, 784)\n",
      "X_test:  (10000, 784)\n"
     ]
    }
   ],
   "source": [
    "### GRADED\n",
    "### QUESTION 7\n",
    "### Rescale & reshape the feature arrays X_train_orig & X_test_orig as described above.\n",
    "### Assign the results to X_train & X_test respectively.\n",
    "### YOUR SOLUTION HERE:\n",
    "N_train,nx,ny = X_train_orig.shape\n",
    "N_test = len(X_test_orig)\n",
    "X_train = X_train_orig.reshape((N_train,nx*ny))/255.0\n",
    "X_test  = X_test_orig.reshape((N_test,nx*ny))/255.0\n",
    "### For verification:\n",
    "print('X_train: {}'.format(X_train.shape))\n",
    "print('X_test:  {}'.format(X_test.shape))"
   ]
  },
  {
   "cell_type": "code",
   "execution_count": 22,
   "metadata": {
    "collapsed": true,
    "deletable": false,
    "editable": false,
    "nbgrader": {
     "grade": true,
     "grade_id": "Q-07",
     "locked": true,
     "points": "8",
     "solution": false
    }
   },
   "outputs": [],
   "source": [
    "###\n",
    "### AUTOGRADER TEST - DO NOT REMOVE\n",
    "###\n"
   ]
  },
  {
   "cell_type": "markdown",
   "metadata": {
    "deletable": false,
    "editable": false,
    "nbgrader": {
     "grade": false,
     "locked": true,
     "solution": false
    }
   },
   "source": [
    "[Back to top](#Assignment-Contents)\n",
    "\n",
    "---\n",
    "<a id=\"q-targets\"></a>\n",
    "## Question 8: Preprocessing the Targets\n",
    "\n",
    "As a second step, preprocess the targets `y_train_orig` & `y_test_orig` by converting them to two-dimensional arrays with one-hot encoded rows (each corresponding to a particular categorical label).\n",
    "+ You can use [`sklearn.preprocessing.OneHotEncoder`](https://scikit-learn.org/stable/modules/generated/sklearn.preprocessing.OneHotEncoder.html) to do the encoding. The result should should be a two-dimensional array of ones & zeros of shape `(60000,10)` for `y_train` and another of shape `(10000,100)` for `y_test`. Each row should be all zeros except for a single entry of one in the postion corresponding to the appropriate digit. For instance:\n",
    "  ```python\n",
    ">>> print(y_test_orig[:3])   #  labels *before* one-hot encoding\n",
    "[[7]\n",
    " [2]\n",
    " [1]]\n",
    ">>> print(y_test[:3])        # labels *after* one-hot-encoding\n",
    "[[0. 0. 0. 0. 0. 0. 0. 1. 0. 0.]\n",
    " [0. 0. 1. 0. 0. 0. 0. 0. 0. 0.]\n",
    " [0. 1. 0. 0. 0. 0. 0. 0. 0. 0.]]\n",
    "  ```\n",
    "+ Bind the results to `y_train` and `y_test`.\n",
    "+ Alternatively, the function `to_categorical` from `keras.utils` can be used for this task (but it does not provide the option for sparse representation as with the Scikit-Learn `OneHotEncoder`)."
   ]
  },
  {
   "cell_type": "code",
   "execution_count": 23,
   "metadata": {},
   "outputs": [
    {
     "name": "stdout",
     "output_type": "stream",
     "text": [
      "y_train: (60000, 10)\n",
      "y_test:  (10000, 10)\n",
      "[[7]\n",
      " [2]\n",
      " [1]]\n",
      "[[0. 0. 0. 0. 0. 0. 0. 1. 0. 0.]\n",
      " [0. 0. 1. 0. 0. 0. 0. 0. 0. 0.]\n",
      " [0. 1. 0. 0. 0. 0. 0. 0. 0. 0.]]\n"
     ]
    }
   ],
   "source": [
    "### GRADED\n",
    "### QUESTION 8\n",
    "### Convert the target arrays y_train_orig & y_test_orig as described above.\n",
    "### Assign the results to y_train & y_test respectively.\n",
    "from sklearn.preprocessing import OneHotEncoder\n",
    "### YOUR SOLUTION HERE:\n",
    "encoder = OneHotEncoder()\n",
    "encoder.fit(y_train_orig.reshape(-1,1))\n",
    "y_train = encoder.transform(y_train_orig.reshape(-1,1))\n",
    "y_test = encoder.transform(y_test_orig.reshape(-1,1))\n",
    "### For verification:\n",
    "print('y_train: {}'.format(y_train.shape))\n",
    "print('y_test:  {}'.format(y_test.shape))\n",
    "print(y_test_orig[:3])\n",
    "print(y_test[:3].todense()) # First three rows"
   ]
  },
  {
   "cell_type": "code",
   "execution_count": 24,
   "metadata": {
    "collapsed": true,
    "deletable": false,
    "editable": false,
    "nbgrader": {
     "grade": true,
     "grade_id": "Q-08",
     "locked": true,
     "points": "7",
     "solution": false
    }
   },
   "outputs": [],
   "source": [
    "###\n",
    "### AUTOGRADER TEST - DO NOT REMOVE\n",
    "###\n"
   ]
  },
  {
   "cell_type": "markdown",
   "metadata": {
    "deletable": false,
    "editable": false,
    "nbgrader": {
     "grade": false,
     "locked": true,
     "solution": false
    }
   },
   "source": [
    "### ScikitLearn `MLPClassifier`\n",
    "\n",
    "Now the data is loaded and ready to be processed, we can feed it into a simple feed-forward neural network.\n",
    "ScikitLearn has a straightforward implementation of a *Multi-layered Perceptron* (see the documemtation for the [`MLPClassifier`](https://scikit-learn.org/stable/modules/generated/sklearn.neural_network.MLPClassifier.html) class).  Here, we have control over aforementioned parameters like the activation function and the learning rate.\n",
    "\n",
    "[Back to top](#Assignment-Contents)\n",
    "\n",
    "---\n",
    "<a id=\"q-MLP\"></a>\n",
    "### Question 9: Using the `MLPClassifier`\n",
    "\n",
    "Your task here is to complete the code below to instantiate an `MLPClassifier`.\n",
    "+ Set `activation='logistic'` to choose a logistic activation function.\n",
    "+ Use `hidden_layer_sizes=(512,)` to create a single hidden layer with 512 units.\n",
    "+ Set the `max_iter` parameter to `5` to limit the number of iterations (or *epochs*) of gradient descent.\n",
    "+ Use `learning_rate='constant'` to keep the learning rate fixed and set `learning_rate_init` to `0.1`."
   ]
  },
  {
   "cell_type": "code",
   "execution_count": 25,
   "metadata": {
    "collapsed": true
   },
   "outputs": [],
   "source": [
    "### GRADED\n",
    "### QUESTION 9\n",
    "### The MLPClassifier works as our other sklearn estimator classes\n",
    "### Below you are to instantiate an MLPClassifier\n",
    "### with a sigmoid ('logistic') activation function and learning rate\n",
    "### of 0.01.\n",
    "from sklearn.neural_network import MLPClassifier\n",
    "### YOUR SOLUTION HERE:\n",
    "mlp = MLPClassifier(activation='logistic',hidden_layer_sizes= (512,), max_iter=5, learning_rate= 'constant',learning_rate_init= 0.1)\n"
   ]
  },
  {
   "cell_type": "code",
   "execution_count": 26,
   "metadata": {
    "collapsed": true,
    "deletable": false,
    "editable": false,
    "nbgrader": {
     "grade": true,
     "grade_id": "Q-09",
     "locked": true,
     "points": "5",
     "solution": false
    }
   },
   "outputs": [],
   "source": [
    "###\n",
    "### AUTOGRADER TEST - DO NOT REMOVE\n",
    "###\n"
   ]
  },
  {
   "cell_type": "markdown",
   "metadata": {
    "deletable": false,
    "editable": false,
    "nbgrader": {
     "grade": false,
     "locked": true,
     "solution": false
    }
   },
   "source": [
    "Having instantiated the `MLPClassifier`, you can fit it to the training data and assess the accuracy in the usual way with Scikit-Learn estimator `fit` and `predict` (or `score`) methods. Notice, however, that this is rather slow (about 25 seconds on my laptop with 16GB RAM).\n",
    "\n",
    "**Note**: If you experience timeouts, you may want to leave the next cell commented out (and the one that follows)."
   ]
  },
  {
   "cell_type": "code",
   "execution_count": 27,
   "metadata": {
    "collapsed": true
   },
   "outputs": [],
   "source": [
    "# %%time\n",
    "# LEAVE THIS CELL COMMENTED OUT THIS CELL IF YOU EXPERINCE TIMEOUTS!\n",
    "# mlp.fit(X_train, y_train)   # Fitting to the training data is not so fast"
   ]
  },
  {
   "cell_type": "code",
   "execution_count": 28,
   "metadata": {
    "collapsed": true
   },
   "outputs": [],
   "source": [
    "# %%time\n",
    "# LEAVE THIS CELL COMMENTED OUT THIS CELL IF YOU EXPERINCE TIMEOUTS!\n",
    "# y_pred = mlp.predict(X_test)  # Prediction is much faster\n",
    "# # Prediction is must faster\n",
    "# accuracy_train = mlp.score(X_train, y_train)\n",
    "# accuracy_test = mlp.score(X_test, y_test)\n",
    "# print('Training accuracy: {:5.3f}'.format(accuracy_train))\n",
    "# print('Testing  accuracy: {:5.3f}'.format(accuracy_test))"
   ]
  },
  {
   "cell_type": "markdown",
   "metadata": {
    "deletable": false,
    "editable": false,
    "nbgrader": {
     "grade": false,
     "locked": true,
     "solution": false
    }
   },
   "source": [
    "[Back to top](#Assignment-Contents)\n",
    "\n",
    "---\n"
   ]
  },
  {
   "cell_type": "markdown",
   "metadata": {
    "deletable": false,
    "editable": false,
    "nbgrader": {
     "grade": false,
     "locked": true,
     "solution": false
    }
   },
   "source": [
    "## Introduction to Keras\n",
    "\n",
    "<center>\n",
    "    <a href=\"http://keras.io\"><img src = \"assets/keras.png\" width = \"50%\" height = \"50%\" /></a>\n",
    "</center>\n",
    "\n",
    "Now that you have some familiarity the perceptron as a simple neural network and with the multi-layer perceptron in Scikit-Learn, you can use [Keras](http://keras.io) as a more practical framework to solve problems using neural networks. Keras is a library that provides a simple API for neural network algorithms on top of lower-level libraries like [Tensorflow](https://www.tensorflow.org/) or [Theano](https://github.com/Theano/Theano). Other high-level frameworks for neural networks (\"deep learning\") include [Chainer](https://chainer.org/) and [PyTorch](https://pytorch.org/)."
   ]
  },
  {
   "cell_type": "markdown",
   "metadata": {
    "deletable": false,
    "editable": false,
    "nbgrader": {
     "grade": false,
     "locked": true,
     "solution": false
    }
   },
   "source": [
    "[Back to top](#Assignment-Contents)\n",
    "\n",
    "---\n",
    "<a id=\"q-architecture\"></a>\n",
    "## Question 10: Setting up the Keras Architecture\n",
    "\n",
    "You are now ready to instantiate a neural network model to solve the digits classification problem. This is referred to as specifying the *architecture* of the neural network.\n",
    "\n",
    "+ To initialize the model, instantiate an object of the class `models.Sequential`. Use the default options.\n",
    "+ Add a hidden layer using `network.add` with `layers.Dense`.\n",
    "  + The first argument to `layers.Dense` is `512` (for 512 units).\n",
    "  + Use the keyword argument `activation='relu'` to specify the ReLU activation function for this layer.\n",
    "  + As this is the first layer instantiated, it is necessary to specify `input_shape` as a *tuple*.\n",
    "+ Add a final output layer using `network.add` & `layers.Dense`.\n",
    "  + This layer will have 10 units and `activation='softmax'` to specify the final output of the setup."
   ]
  },
  {
   "cell_type": "code",
   "execution_count": 29,
   "metadata": {},
   "outputs": [
    {
     "name": "stderr",
     "output_type": "stream",
     "text": [
      "Using TensorFlow backend.\n"
     ]
    }
   ],
   "source": [
    "### GRADED\n",
    "### QUESTION 10\n",
    "### Create the neural network architecture using models.Sequential.\n",
    "###   Bind the object to the identifier \"network\" and add two layers: a dense layer with\n",
    "###   512 units with an activation function 'relu' and another dense layer, this time with\n",
    "###  10 units and an activation function 'softmax'. Remember that the first layer requires\n",
    "###  specification of the input dimensions. \n",
    "from keras import models\n",
    "from keras import layers\n",
    "network = models.Sequential()\n",
    "network.add(layers.Dense(512, activation ='relu', input_shape = (X_train.shape[1],)))\n",
    "network.add(layers.Dense(10, activation = 'softmax'))"
   ]
  },
  {
   "cell_type": "code",
   "execution_count": 30,
   "metadata": {
    "collapsed": true,
    "deletable": false,
    "editable": false,
    "nbgrader": {
     "grade": true,
     "grade_id": "Q-10",
     "locked": true,
     "points": "12",
     "solution": false
    }
   },
   "outputs": [],
   "source": [
    "###\n",
    "### AUTOGRADER TEST - DO NOT REMOVE\n",
    "###\n"
   ]
  },
  {
   "cell_type": "markdown",
   "metadata": {
    "deletable": false,
    "editable": false,
    "nbgrader": {
     "grade": false,
     "locked": true,
     "solution": false
    }
   },
   "source": [
    "To get `network` ready to fit to the training data, you have to first *compile* it. This involves specifying the optimizer (a choice of strategies to apply to solve for the network parameters), the loss function to minimize (categorical cross-entropy in this case as is common for multi-class classification problems), and a choice of metrics to track in the iterative process."
   ]
  },
  {
   "cell_type": "code",
   "execution_count": 31,
   "metadata": {
    "collapsed": true
   },
   "outputs": [],
   "source": [
    "network.compile(optimizer='rmsprop', loss='categorical_crossentropy', metrics=['accuracy'])"
   ]
  },
  {
   "cell_type": "markdown",
   "metadata": {
    "deletable": false,
    "editable": false,
    "nbgrader": {
     "grade": false,
     "locked": true,
     "solution": false
    }
   },
   "source": [
    "[Back to top](#Assignment-Contents)\n",
    "\n",
    "---\n",
    "<a id=\"q-fitting\"></a>\n",
    "## Question 11: Fitting the Neural Network to Training Data\n",
    "\n",
    "You can fit the training data to the neural network using the `fit` method.\n",
    "+ The `fit` method requires the feature array `X_train` and the target array `y_train` as inputs.\n",
    "+ As optional keyword arguments, specify `epochs=5` (the number of sweeps through the data to make) and `batch_size=128` (the number of data points to use in each sweep through the data). This is in principle the same as the iterations of stochastic gradient descent (with a batch size of 1) made in the perceptron algorithm.\n",
    "+ Bind the output of `network.fit` to the identifier `history`."
   ]
  },
  {
   "cell_type": "code",
   "execution_count": 32,
   "metadata": {},
   "outputs": [
    {
     "name": "stdout",
     "output_type": "stream",
     "text": [
      "Epoch 1/5\n",
      "60000/60000 [==============================] - 2s 37us/step - loss: 0.2579 - acc: 0.9248\n",
      "Epoch 2/5\n",
      "60000/60000 [==============================] - 2s 36us/step - loss: 0.1033 - acc: 0.9692\n",
      "Epoch 3/5\n",
      "60000/60000 [==============================] - 2s 36us/step - loss: 0.0680 - acc: 0.9796\n",
      "Epoch 4/5\n",
      "60000/60000 [==============================] - 2s 35us/step - loss: 0.0491 - acc: 0.9850\n",
      "Epoch 5/5\n",
      "60000/60000 [==============================] - 2s 35us/step - loss: 0.0368 - acc: 0.9889\n"
     ]
    }
   ],
   "source": [
    "### GRADED\n",
    "### QUESTION 11\n",
    "### Apply the fit method to the object network to using the training data and the options\n",
    "###   specified above. Assign the result to the identifier history.\n",
    "### YOUR SOLUTION HERE:\n",
    "history = network.fit(X_train,y_train, epochs = 5, batch_size =128);\n"
   ]
  },
  {
   "cell_type": "code",
   "execution_count": null,
   "metadata": {
    "collapsed": true
   },
   "outputs": [],
   "source": []
  },
  {
   "cell_type": "code",
   "execution_count": 33,
   "metadata": {
    "collapsed": true,
    "deletable": false,
    "editable": false,
    "nbgrader": {
     "grade": true,
     "grade_id": "Q-11",
     "locked": true,
     "points": "5",
     "solution": false
    }
   },
   "outputs": [],
   "source": [
    "###\n",
    "### AUTOGRADER TEST - DO NOT REMOVE\n",
    "###\n"
   ]
  },
  {
   "cell_type": "markdown",
   "metadata": {
    "deletable": false,
    "editable": false,
    "nbgrader": {
     "grade": false,
     "locked": true,
     "solution": false
    }
   },
   "source": [
    "[Back to top](#Assignment-Contents)\n",
    "\n",
    "---\n",
    "<a id=\"q-assessing\"></a>\n",
    "## Question 12: Assessing Neural Network Model Accuracy\n",
    "\n",
    "Finally, you can assess the accuracy of the classification model using the testing data.\n",
    "+ Apply the `evaluate` method to the object `network` with the testing data `X_test` & `y_test` as input.\n",
    "+ The output will be a sequence of two values: the loss and the accuracy. Assign these values to `test_loss` and `test_acc` respectively."
   ]
  },
  {
   "cell_type": "code",
   "execution_count": 34,
   "metadata": {},
   "outputs": [
    {
     "name": "stdout",
     "output_type": "stream",
     "text": [
      "10000/10000 [==============================] - 0s 35us/step\n",
      "test_loss:   0.07562\n",
      "test_acc:     0.9766\n"
     ]
    }
   ],
   "source": [
    "### GRADED\n",
    "### QUESTION 12\n",
    "### Use the testing arrays X_test & y_test to compute the loss function & accuracy on the test data.\n",
    "###   Assign the results to test_loss & test_acc respectively.\n",
    "### YOUR SOLUTION HERE:\n",
    "test_loss,test_acc = network.evaluate(X_test,y_test)\n",
    "print('test_loss: {:9.4g}'.format(test_loss))\n",
    "print('test_acc:  {:9.4g}'.format(test_acc))"
   ]
  },
  {
   "cell_type": "code",
   "execution_count": 35,
   "metadata": {
    "collapsed": true,
    "deletable": false,
    "editable": false,
    "nbgrader": {
     "grade": true,
     "grade_id": "Q-12",
     "locked": true,
     "points": "5",
     "solution": false
    }
   },
   "outputs": [],
   "source": [
    "###\n",
    "### AUTOGRADER TEST - DO NOT REMOVE\n",
    "###\n"
   ]
  },
  {
   "cell_type": "markdown",
   "metadata": {
    "deletable": false,
    "editable": false,
    "nbgrader": {
     "grade": false,
     "locked": true,
     "solution": false
    }
   },
   "source": [
    "Now you've worked through this, you've built your first neural network model from end-to-end in Keras!\n",
    "\n",
    "[Back to top](#Assignment-Contents)\n",
    "\n",
    "---"
   ]
  },
  {
   "cell_type": "markdown",
   "metadata": {
    "deletable": false,
    "editable": false,
    "nbgrader": {
     "grade": false,
     "locked": true,
     "solution": false
    }
   },
   "source": [
    "## Using Keras for Linear Regression: Boston Housing data\n",
    "\n",
    "Using Keras in a regression setting is very similar to doing so for classification examples.  We will work through a basic implementation using the Boston Housing dataset from Keras."
   ]
  },
  {
   "cell_type": "code",
   "execution_count": 36,
   "metadata": {
    "collapsed": true,
    "deletable": false,
    "editable": false,
    "nbgrader": {
     "grade": false,
     "locked": true,
     "solution": false
    }
   },
   "outputs": [],
   "source": [
    "d_file = np.load('assets/boston.npz')\n",
    "train_data = d_file['train_data']\n",
    "test_data = d_file['test_data']\n",
    "train_targets = d_file['train_targets']\n",
    "test_targets = d_file['test_targets']"
   ]
  },
  {
   "cell_type": "code",
   "execution_count": 37,
   "metadata": {},
   "outputs": [
    {
     "data": {
      "text/plain": [
       "(102,)"
      ]
     },
     "execution_count": 37,
     "metadata": {},
     "output_type": "execute_result"
    }
   ],
   "source": [
    "test_targets.shape"
   ]
  },
  {
   "cell_type": "markdown",
   "metadata": {
    "deletable": false,
    "editable": false,
    "nbgrader": {
     "grade": false,
     "locked": true,
     "solution": false
    }
   },
   "source": [
    "To begin, we need to standardize our data.   Recall that the standard score of a sample $x$ is calculated as:\n",
    "\n",
    "$$z = \\frac{(x - \\mu)}{  s}$$\n",
    "\n",
    "\n",
    "where $\\mu$ is the mean of the training samples or zero if and $s$ is the standard deviation of the training samples."
   ]
  },
  {
   "cell_type": "markdown",
   "metadata": {
    "deletable": false,
    "editable": false,
    "nbgrader": {
     "grade": false,
     "locked": true,
     "solution": false
    }
   },
   "source": [
    "[Back to top](#Assignment-Contents)\n",
    "\n",
    "---\n",
    "<a id=\"q-housing-features\"></a>\n",
    "\n",
    "## Question 13:Preprocessing the Housing Features\n",
    "\n",
    "Your task here is to *standardize* the features of the housing data using the transformation above.\n",
    "+ Given the two-dimensional array of features in `train_data`, replace each column by subtracting its mean and dividing by its standard deviation.\n",
    "+ Assign the results to `scaled_train` and `scaled_test`.\n",
    "+ Be sure to use the means & standard deviations from the *training* data to standardize the *testing* data. That is, the standardizing transformation can only rely on information known *a propri* from training; it cannot know statistical properties of future testing instances."
   ]
  },
  {
   "cell_type": "code",
   "execution_count": 38,
   "metadata": {},
   "outputs": [
    {
     "data": {
      "text/plain": [
       "StandardScaler(copy=True, with_mean=True, with_std=True)"
      ]
     },
     "execution_count": 38,
     "metadata": {},
     "output_type": "execute_result"
    }
   ],
   "source": [
    "from sklearn.preprocessing import StandardScaler\n",
    "sc = StandardScaler()\n",
    "sc.fit(train_data)"
   ]
  },
  {
   "cell_type": "code",
   "execution_count": 39,
   "metadata": {
    "collapsed": true
   },
   "outputs": [],
   "source": [
    "### GRADED\n",
    "### QUESTION 13\n",
    "### Assign scaled_train and scaled test as described above.\n",
    "### YOUR SOLUTION HERE:\n",
    "scaled_train = sc.transform(train_data)\n",
    "scaled_test = sc.transform(test_data)\n"
   ]
  },
  {
   "cell_type": "code",
   "execution_count": 40,
   "metadata": {
    "collapsed": true,
    "deletable": false,
    "editable": false,
    "nbgrader": {
     "grade": true,
     "grade_id": "Q-13",
     "locked": true,
     "points": "5",
     "solution": false
    }
   },
   "outputs": [],
   "source": [
    "###\n",
    "### AUTOGRADER TEST - DO NOT REMOVE\n",
    "###\n"
   ]
  },
  {
   "cell_type": "code",
   "execution_count": 41,
   "metadata": {},
   "outputs": [
    {
     "data": {
      "text/plain": [
       "13"
      ]
     },
     "execution_count": 41,
     "metadata": {},
     "output_type": "execute_result"
    }
   ],
   "source": [
    "scaled_train.shape[1]"
   ]
  },
  {
   "cell_type": "code",
   "execution_count": null,
   "metadata": {
    "collapsed": true
   },
   "outputs": [],
   "source": []
  },
  {
   "cell_type": "markdown",
   "metadata": {
    "deletable": false,
    "editable": false,
    "nbgrader": {
     "grade": false,
     "locked": true,
     "solution": false
    }
   },
   "source": [
    "[Back to top](#Assignment-Contents)\n",
    "\n",
    "---\n",
    "<a id=\"q-housing-setup\"></a>\n",
    "## Question 14: Preparing the Neural Network for Regression\n",
    "\n",
    "Below, you will write a basic function to setup the network using the following criteria:\n",
    "\n",
    "- Uses a `Sequential` model.\n",
    "- Contains two `Dense` layers with 32 units each and `relu` activation function.\n",
    "- Contains a single `Dense` output layer with 1  unit.\n",
    "- Compiles the network using:\n",
    " - `optimizer = 'rmsprop'`\n",
    " - `loss = 'mse'`\n",
    " - `metrics = ['mae']`"
   ]
  },
  {
   "cell_type": "code",
   "execution_count": 42,
   "metadata": {},
   "outputs": [
    {
     "data": {
      "text/plain": [
       "13"
      ]
     },
     "execution_count": 42,
     "metadata": {},
     "output_type": "execute_result"
    }
   ],
   "source": [
    "scaled_train.shape[1]"
   ]
  },
  {
   "cell_type": "code",
   "execution_count": null,
   "metadata": {
    "collapsed": true
   },
   "outputs": [],
   "source": []
  },
  {
   "cell_type": "code",
   "execution_count": 43,
   "metadata": {
    "collapsed": true
   },
   "outputs": [],
   "source": [
    "### GRADED\n",
    "### QUESTION 14\n",
    "### Complete the function build_regression() below.\n",
    "### This function takes no arguments and returns a compiled Keras model\n",
    "### object according to the criteria above.\n",
    "def build_regression():\n",
    "    '''\n",
    "    Builds a Keras Sequential model with\n",
    "    two Dense layers containing 32 units and \n",
    "    a single linear output layer.\n",
    "    '''\n",
    "    model = models.Sequential()\n",
    "    model.add(layers.Dense(32, activation ='relu',input_shape = (train_data.shape[1],)))\n",
    "    model.add(layers.Dense(32, activation = 'relu'))\n",
    "    model.add(layers.Dense(1))\n",
    "    model.compile(optimizer='rmsprop', loss='mse', metrics=['mae'])\n",
    "    return model"
   ]
  },
  {
   "cell_type": "code",
   "execution_count": 44,
   "metadata": {
    "collapsed": true,
    "deletable": false,
    "editable": false,
    "nbgrader": {
     "grade": true,
     "grade_id": "Q-14",
     "locked": true,
     "points": "10",
     "solution": false
    }
   },
   "outputs": [],
   "source": [
    "###\n",
    "### AUTOGRADER TEST - DO NOT REMOVE\n",
    "###\n"
   ]
  },
  {
   "cell_type": "code",
   "execution_count": 45,
   "metadata": {
    "collapsed": true
   },
   "outputs": [],
   "source": [
    "#build_regression().fit(X_train,y_train)"
   ]
  },
  {
   "cell_type": "markdown",
   "metadata": {
    "deletable": false,
    "editable": false,
    "nbgrader": {
     "grade": false,
     "locked": true,
     "solution": false
    }
   },
   "source": [
    "[Back to top](#Assignment-Contents)\n",
    "\n",
    "---\n",
    "<a id=\"q-housing-eval\"></a>\n",
    "## Question 15: Evaluating the Neural Network for Regression\n",
    "\n",
    "Just as we did with the classification example, we can assess the accuracy of the model using the testing data.\n",
    "\n",
    "+ Prepare a model using the function `build_regression` from the previous question.\n",
    "+ Use the arrays `train_data` and `train_targets` to train the model using the `fit` method. Provide the keyword arguments `epochs=10`, and `batch_size=128` to tailor the number of training epochs and the number of random observations drawn in each batch within an epoch.\n",
    "+ Finally, use the `evaluate` method with the testing data `test_data` & `test_targets` as input. The output will be a sequence of two values: the loss and the accuracy.\n",
    "+ Assign these two values to `test_loss` and `test_acc` respectively."
   ]
  },
  {
   "cell_type": "code",
   "execution_count": 46,
   "metadata": {},
   "outputs": [
    {
     "name": "stdout",
     "output_type": "stream",
     "text": [
      "Epoch 1/10\n",
      "404/404 [==============================] - 0s 279us/step - loss: 590.0081 - mean_absolute_error: 22.4787\n",
      "Epoch 2/10\n",
      "404/404 [==============================] - 0s 10us/step - loss: 573.9007 - mean_absolute_error: 22.1198\n",
      "Epoch 3/10\n",
      "404/404 [==============================] - 0s 11us/step - loss: 562.3275 - mean_absolute_error: 21.8637\n",
      "Epoch 4/10\n",
      "404/404 [==============================] - 0s 11us/step - loss: 551.3741 - mean_absolute_error: 21.6207\n",
      "Epoch 5/10\n",
      "404/404 [==============================] - 0s 12us/step - loss: 541.4320 - mean_absolute_error: 21.3968\n",
      "Epoch 6/10\n",
      "404/404 [==============================] - 0s 11us/step - loss: 530.8438 - mean_absolute_error: 21.1629\n",
      "Epoch 7/10\n",
      "404/404 [==============================] - 0s 9us/step - loss: 519.8610 - mean_absolute_error: 20.9167\n",
      "Epoch 8/10\n",
      "404/404 [==============================] - 0s 11us/step - loss: 508.3548 - mean_absolute_error: 20.6569\n",
      "Epoch 9/10\n",
      "404/404 [==============================] - 0s 11us/step - loss: 496.0023 - mean_absolute_error: 20.3783\n",
      "Epoch 10/10\n",
      "404/404 [==============================] - 0s 10us/step - loss: 483.4879 - mean_absolute_error: 20.0892\n",
      "102/102 [==============================] - 0s 233us/step\n",
      "test_loss:     497.7\n",
      "test_acc:      20.52\n"
     ]
    }
   ],
   "source": [
    "### GRADED\n",
    "### QUESTION 15\n",
    "### Build and evaluate your Regression model.\n",
    "### Save the evaluation loss to test_loss and accuracy\n",
    "### to test_acc below.\n",
    "### YOUR SOLUTION HERE:\n",
    "model = build_regression()\n",
    "history = model.fit(scaled_train,train_targets, epochs =10, batch_size =128)\n",
    "test_loss, test_acc = model.evaluate(scaled_test, test_targets)\n",
    "print('test_loss: {:9.4g}'.format(test_loss))\n",
    "print('test_acc:  {:9.4g}'.format(test_acc))"
   ]
  },
  {
   "cell_type": "code",
   "execution_count": 47,
   "metadata": {
    "collapsed": true,
    "deletable": false,
    "editable": false,
    "nbgrader": {
     "grade": true,
     "grade_id": "Q-15",
     "locked": true,
     "points": "6",
     "solution": false
    }
   },
   "outputs": [],
   "source": [
    "###\n",
    "### AUTOGRADER TEST - DO NOT REMOVE\n",
    "###\n"
   ]
  },
  {
   "cell_type": "markdown",
   "metadata": {
    "deletable": false,
    "editable": false,
    "nbgrader": {
     "grade": false,
     "locked": true,
     "solution": false
    }
   },
   "source": [
    "[Back to top](#Assignment-Contents)\n",
    "\n",
    "---\n",
    "# Constraint Satisfaction Problems and Backtracking\n",
    "\n",
    "\n",
    "In the final portion of this assignment, you'll explore a few [Constraint Satisfaction Problems](https://en.wikipedia.org/wiki/Constraint_satisfaction_problem). From Wikipedia:\n",
    "> Constraint satisfaction problems (CSPs) are mathematical questions defined as a set of objects whose state must satisfy a number of constraints or limitations. CSPs represent the entities in a problem as a homogeneous collection of finite constraints over variables, which is solved by constraint satisfaction methods. CSPs are the subject of intense research in both artificial intelligence and operations research, since the regularity in their formulation provides a common basis to analyze and solve problems of many seemingly unrelated families. CSPs often exhibit high complexity, requiring a combination of heuristics and combinatorial search methods to be solved in a reasonable time. The Boolean satisfiability problem (SAT), the satisfiability modulo theories (SMT) and answer set programming (ASP) can be roughly thought of as certain forms of the constraint satisfaction problem."
   ]
  },
  {
   "cell_type": "markdown",
   "metadata": {
    "deletable": false,
    "editable": false,
    "nbgrader": {
     "grade": false,
     "locked": true,
     "solution": false
    }
   },
   "source": [
    "We will start with the [eight queens puzzle](https://en.wikipedia.org/wiki/Eight_queens_puzzle) or, more precisely, its generalization the $N$ queens puzzle.\n",
    "Given an $N \\times N$ chessboard, determine all the ways in which $N$ queens can be placed on the board so that no queen is threatened by another queen. Remember that queens can move an arbitrary number of spaces along horizontal rows, vertical columns, or diagonally connected squares on the chessboard. So, another way of stating the $N$ queens problem is to place $N$ queens on an $N\\times N$ chessboard so that no two queens occupy the same row or column and so that no two queens lie along any diagonal line (i.e. at 45 degrees) of the board.\n",
    "\n",
    "The $1$-Queens problem has a single, trivial solution. You can enumerate the cases for the $2$-Queens and $3$-Queens solutions to convince yourself that no solutions exist for these cases. For the $4$-Queens problem, here is one solution: \n",
    "<center>\n",
    "    <img src = './assets/sol_4x4_b.png'>\n",
    "</center>\n",
    "\n",
    "To identify positions on the chess board, let the top left square be indexed by `(0,0)` with rows increasing downward and columns increasing to the right. For convenience sake, the positions of the $N$ queens on the board can be represented as a single list: the $k$th entry of the list represents the column location of the queen in row $k$.  For example, to represent the board above, use\n",
    "\n",
    "```python\n",
    ">>> board = [2, 0, 3, 1]\n",
    "```\n",
    "\n",
    "because the queens are positioned at coordinates `(0,2)`, `(1,0)`, `(2,3)`, & `(3,1)`."
   ]
  },
  {
   "cell_type": "code",
   "execution_count": 48,
   "metadata": {
    "deletable": false,
    "editable": false,
    "nbgrader": {
     "grade": false,
     "locked": true,
     "solution": false
    }
   },
   "outputs": [
    {
     "name": "stdout",
     "output_type": "stream",
     "text": [
      "[2, 0, 3, 1]\n"
     ]
    }
   ],
   "source": [
    "#The board above and our representation\n",
    "board = [2, 0, 3, 1]\n",
    "print(board)"
   ]
  },
  {
   "cell_type": "code",
   "execution_count": 52,
   "metadata": {},
   "outputs": [
    {
     "name": "stdout",
     "output_type": "stream",
     "text": [
      "True\n"
     ]
    }
   ],
   "source": [
    "def is_attacked(row,col,queens):\n",
    "    for row in range(len(board) -1):\n",
    "        col = board[row]\n",
    "        if col in board[:row]:\n",
    "            return False\n",
    "        if col == board[row +1]:\n",
    "            return False\n",
    "N = len(board)\n",
    "if N<2: print(True)\n",
    "for row in range (N-1,0,-1):\n",
    "    col = board[row]\n",
    "    if is_attacked(row,col,board[:row]):\n",
    "        print( False)\n",
    "print( True)"
   ]
  },
  {
   "cell_type": "markdown",
   "metadata": {
    "deletable": false,
    "editable": false,
    "nbgrader": {
     "grade": false,
     "locked": true,
     "solution": false
    }
   },
   "source": [
    "To get started, you need to construct a function `is_nqueens_soln` to assess whether a given function is a valid solution of the $N$-Queens problem. Recall that an invalid board has two queens in the same row, the same column, or two queens on any diagonal line."
   ]
  },
  {
   "cell_type": "markdown",
   "metadata": {
    "deletable": false,
    "editable": false,
    "nbgrader": {
     "grade": false,
     "locked": true,
     "solution": false
    }
   },
   "source": [
    "[Back to top](#Assignment-Contents)\n",
    "\n",
    "---\n",
    "<a id=\"q-queens-valid\"></a>\n",
    "## Question 16: Verifying a Valid *N*-Queens Chessboard\n",
    "\n",
    "The task here is to complete the function `is_nqueens_soln` that accepts a list of length $N$ as input (the representation of a board as described above).\n",
    "+ Given the list `board` of length $N$ with entries between $0$ and $N-1$, the board is assumed to have a queen at position `(k, board[k])` for `k` $=0,1,\\dotsc,N-1$.\n",
    "+ The function returns `False` if any horizontal line, vertical line, or diagonal line on the $N\\times N$ chessboard contains more than one queen.\n",
    "+ If the entries of `board` are all between $0$ and $N-1$ and the preceding condition fails, the function should return `True`."
   ]
  },
  {
   "cell_type": "code",
   "execution_count": 54,
   "metadata": {
    "collapsed": true
   },
   "outputs": [],
   "source": [
    "### GRADED\n",
    "### QUESTION 16\n",
    "### Complete the function is_nqueens_soln as described above.\n",
    "def is_nqueens_soln(board):\n",
    "    '''Returns True or False according to whether board is a valid solution of the\n",
    "    N-Queens problem (assuming board is a list of N column coordinates only).\n",
    "    INPUT:\n",
    "       board: a list of length N with column positions of queens in each row.\n",
    "              (note: board should be a permutation of integers 0 through N-1).\n",
    "    OUTPUT:\n",
    "       True or False according to whether board is a valid solution of the N-Queens\n",
    "       problem.\n",
    "    EXAMPLE:\n",
    "    >>> B1 = [1, 3, 0, 2]\n",
    "    >>> is_nqueens_soln(B1)\n",
    "    True\n",
    "    >>> B2 = [2, 0, 3, 3]\n",
    "    >>> is_nqueens_soln(B2)\n",
    "    False\n",
    "    '''\n",
    "    def is_attacked(row,col,queens):\n",
    "        for row in range(len(board) -1):\n",
    "            col = board[row]\n",
    "            if col in board[:row]:\n",
    "                return False\n",
    "            if col == board[row +1]:\n",
    "                return False\n",
    "    N = len(board)\n",
    "    if N<2: return True\n",
    "    for row in range (N-1,0,-1):\n",
    "        col = board[row]\n",
    "        if is_attacked(row,col,board[:row]):\n",
    "            return False\n",
    "    return True\n",
    "\n",
    "###\n",
    "### YOUR CODE HERE\n",
    "###\n"
   ]
  },
  {
   "cell_type": "code",
   "execution_count": null,
   "metadata": {
    "collapsed": true,
    "deletable": false,
    "editable": false,
    "nbgrader": {
     "grade": true,
     "grade_id": "Q-16",
     "locked": true,
     "points": "10",
     "solution": false
    }
   },
   "outputs": [],
   "source": [
    "###\n",
    "### AUTOGRADER TEST - DO NOT REMOVE\n",
    "###\n"
   ]
  },
  {
   "cell_type": "code",
   "execution_count": 55,
   "metadata": {},
   "outputs": [
    {
     "data": {
      "text/plain": [
       "True"
      ]
     },
     "execution_count": 55,
     "metadata": {},
     "output_type": "execute_result"
    }
   ],
   "source": [
    "is_nqueens_soln(board)"
   ]
  },
  {
   "cell_type": "markdown",
   "metadata": {
    "deletable": false,
    "editable": false,
    "nbgrader": {
     "grade": false,
     "locked": true,
     "solution": false
    }
   },
   "source": [
    "[Back to top](#Assignment-Contents)\n",
    "\n",
    "---\n",
    "You now have the pieces ready to solve the $N$-Queens problem, i.e., to construct the set of all solutions of the $N$-Queens for $N\\ge 4$.\n",
    "\n",
    "You can approach the problem using a general algorithm for solving CSPs called [*backtracking*](https://en.wikipedia.org/wiki/Backtracking). From Wikipedia:\n",
    "\n",
    "> Backtracking is a general algorithm for finding all (or some) solutions to some computational problems, notably constraint satisfaction problems, that incrementally builds candidates to the solutions, and abandons a candidate (\"backtracks\") as soon as it determines that the candidate cannot possibly be completed to a valid solution.\n",
    "\n",
    "\n",
    "The strategy is to enumerate incrementally a set of partial candidates that, in principle, could be completed in various ways to yield all the possible solutions to the given problem. The partial candidates can be conceptually represented as the nodes of a tree structure, the potential search tree. The backtracking algorithm traverses this search tree recursively in a depth-first order. At each node, the algorithm checks for a valid solution. If the current node cannot be completed to a valid solution, the whole subtree rooted at the current node is pruned. Otherwise, the algorithm recursively enumerates all subtrees of from the current node.\n",
    "\n",
    "In the current context, you start with an empty board and the number of queens $N$ to be placed on an $N\\times N$ board."
   ]
  },
  {
   "cell_type": "markdown",
   "metadata": {
    "deletable": false,
    "editable": false,
    "nbgrader": {
     "grade": false,
     "locked": true,
     "solution": false
    }
   },
   "source": [
    "[Back to top](#Assignment-Contents)\n",
    "\n",
    "---\n",
    "<a id=\"q-queens-solving\"></a>\n",
    "## Question 17: Solving the *N*-Queens Problem by Backtracking\n",
    "\n",
    "Your task here is to write a function to solve the $N$-Queens problem by backtracking.\n",
    "+ The function `nqueens_solver` will accept a positive integer $N$ (you can assume that $N\\ge4$).\n",
    "+ Start with a list of known solutions containing an empty list (an empty board)\n",
    "+ Loop over the rows from $0$ to $N-1$:\n",
    "  + Initialize an empty list to accumulate new solutions\n",
    "  + For each column index $k$ from $0$ to $N-1$:\n",
    "    + For each solution list currrently in the list of known solutions:    \n",
    "      + Append the index $k$ to the end of the current solution\n",
    "      + Determine if the modified solution is valid; if so, add it to the list of new solutions\n",
    "  + After looping through all the solutions & all the columns k, overwrite the list of known solutions with the new list of solutions accumulated.\n",
    "+ After looping through all the rows, return the list of solutions accumulated.\n",
    "+ Do not worry about the specific sequence in which the list of solutions is returned."
   ]
  },
  {
   "cell_type": "code",
   "execution_count": 50,
   "metadata": {
    "collapsed": true
   },
   "outputs": [],
   "source": [
    "### GRADED\n",
    "### QUESTION 17\n",
    "### Complete the function nqueens_solver() below.\n",
    "### This function takes in a value N (size of the board) and uses \n",
    "### backtracking to build a list of all the solutions.\n",
    "def nqueens_solver(N):\n",
    "    '''Backtracking solver for N-Queens problem.\n",
    "    INPUT:\n",
    "      N: positive integer >= 4 (size of chess board)\n",
    "    OUTPUT:\n",
    "      solutions: list of lists of length N (permutations of 0..N-1)\n",
    "    EXAMPLE:\n",
    "    >>> for sol in nqueens_solver(4): print(sol)\n",
    "    [2, 0, 3, 1]\n",
    "    [1, 3, 0, 2]\n",
    "    >>> for sol in nqueens_solver(5): print(sol) # Order not important\n",
    "    [3, 1, 4, 2, 0]\n",
    "    [2, 4, 1, 3, 0]\n",
    "    [4, 2, 0, 3, 1]\n",
    "    [3, 0, 2, 4, 1]\n",
    "    [4, 1, 3, 0, 2]\n",
    "    [0, 3, 1, 4, 2]\n",
    "    [1, 4, 2, 0, 3]\n",
    "    [0, 2, 4, 1, 3]\n",
    "    [2, 0, 3, 1, 4]\n",
    "    [1, 3, 0, 2, 4]\n",
    "    '''\n",
    "    solutions = [[]]\n",
    "    for row in range (N):\n",
    "        new_solution s = []\n",
    "        for k in range(N):\n",
    "            for solution in solutions:\n",
    "                board = solution +[k]\n",
    "            if is_nqueens_soln(board):\n",
    "                new_solutions.append(board)\n",
    "        solutions = new_solutions\n",
    "    return solutions\n",
    "###\n",
    "### YOUR CODE HERE\n",
    "###\n",
    "    # Start with a list of known solutions containing an empty list (an empty board)\n",
    "    # Loop over the rows from 0 to N-1:\n",
    "    #     Initialize an empty list to accumulate new solutions\n",
    "    #     For each column index k from 0 to N-1:\n",
    "    #       For each solution list currrently in the list of known solutions:    \n",
    "    #           Append the index k to the end of the current solution\n",
    "    #           Determine if the modified solution is valid;\n",
    "    #               if so, add it to the list of new solutions\n",
    "    #     After looping through all the solutions & all the columns k, overwrite\n",
    "    #     the list of known solutions with the new list of solutions accumulated.\n",
    "    # After looping through all the rows, return the list of solutions accumulated."
   ]
  },
  {
   "cell_type": "code",
   "execution_count": null,
   "metadata": {
    "collapsed": true,
    "deletable": false,
    "editable": false,
    "nbgrader": {
     "grade": true,
     "grade_id": "Q-17",
     "locked": true,
     "points": "15",
     "solution": false
    }
   },
   "outputs": [],
   "source": [
    "###\n",
    "### AUTOGRADER TEST - DO NOT REMOVE\n",
    "###\n"
   ]
  },
  {
   "cell_type": "markdown",
   "metadata": {
    "deletable": false,
    "editable": false,
    "nbgrader": {
     "grade": false,
     "locked": true,
     "solution": false
    }
   },
   "source": [
    "[Back to top](#Assignment-Contents)\n",
    "\n",
    "---\n",
    "\n",
    "An example of a more useful problem one can solve using backtracking is the *flight itinerary problem*. In this problem, you are given a set of tuples of the form *(origin, destination)* where each ordinate in the tuple is an airport code. A starting airport is specifed, but the set of tuples is otherwise not provided in any particular sequence. The goal is to use the list of tuples (flights) provided to recover the sequence of airports visited in sequence making sure to exhaust every tuple in the set provided. Of course, this can be considered a graph teraversal problem where the nodes/vertices are the airports and the edges are the connecting flights.\n",
    "\n",
    "For example, given the following set of flights\n",
    "```\n",
    "    ORD ➔ EWR\n",
    "    YVR ➔ SFO\n",
    "    SFO ➔ ORD\n",
    "    YUL ➔ YVR\n",
    "\n",
    "```\n",
    "\n",
    "and the starting airport `YUL`, you should recover the sequence `YUL ➔ YVR ➔ SFO ➔ ORD ➔ EWR`. In Python, you'll represent the flights as tuples of strings and the final sequence as a single list of strings:\n",
    "```python\n",
    ">>> flights = [('ORD','EWR'), ('YVR','SFO'), ('SFO','ORD'), ('YUL','YVR')]\n",
    ">>> # Eventual itinerary to arrive at...\n",
    ">>> itinerary = ['YUL', 'YVR', 'SFO', 'ORD', 'EWR']\n",
    "```\n",
    "Much like the approach to the $N$-Queens puzzle, you will start with a given itinerary, move through the list and test for valid connections.  If it is, we will continue down the list until we reach a terminal state.  If we reach an invalid move,  we will `.pop()` the move and continue on.  "
   ]
  },
  {
   "cell_type": "markdown",
   "metadata": {
    "deletable": false,
    "editable": false,
    "nbgrader": {
     "grade": false,
     "locked": true,
     "solution": false
    }
   },
   "source": [
    "[Back to top](#Assignment-Contents)\n",
    "\n",
    "---\n",
    "<a id=\"q-flights-small\"></a>\n",
    "## Question 18: Determining a Flight Itinerary\n",
    "\n",
    "Your task here is to construct a function `get_itinerary` that returns a flight itinerary as described above from a sequence of connecting flights.\n",
    "+ The function accepts two inputs: `flights`, a list of tuples of strings of the form `(origin, destination)` (airport codes) and `itinerary`, a list of strings (airport codes) as input.\n",
    "+ The result returned should be a list of strings like `itinerary` describing a path that traverses all the nodes in `flights`.\n",
    "+ If no such path exists, it should return the Python value `None`."
   ]
  },
  {
   "cell_type": "code",
   "execution_count": 1,
   "metadata": {
    "collapsed": true
   },
   "outputs": [],
   "source": [
    "def get_itinerary(flights, itinerary):\n",
    "    '''Returns a list of airports (vertices) comprising a traversal of the edges\n",
    "    listed in the input flights.\n",
    "    INPUT:\n",
    "      flight: list of tuples of the form (origin, destination) (i.e., airports)\n",
    "      itinerary: list of destinations (airports)\n",
    "    OUTPUT:\n",
    "      list of airports traversing all edges in flights or None\n",
    "    EXAMPLE:\n",
    "    >>> flights = [('ORD','EWR'), ('YVR','SFO'), ('SFO','ORD'), ('YUL','YVR')]\n",
    "    >>> print(get_itinerary(flights, ['YUL']))\n",
    "    ['YUL', 'YVR', 'SFO', 'ORD', 'EWR']\n",
    "    >>> print(get_itinerary(flights, ['SFO']))\n",
    "    None\n",
    "    '''\n",
    "###\n",
    "### YOUR CODE HERE\n",
    "###\n",
    "    # If flights is empty, return itinerary (you're done)\n",
    "    # Extract the previous stop from the itinerary\n",
    "    # Loop over the list of flights:\n",
    "        # Copy flights excluding current one to mark it as used\n",
    "        # Append the destination (second ordinate) from tuple to itinerary\n",
    "        # When the origin (1st ordinate) matches the previous stop, return\n",
    "        #    the result of a recursive call to get_itinerary using the current\n",
    "        #    itinerary and the copy of flights that excludes the current one.)\n",
    "        # Pop the last entry from the itinerary\n",
    "    # Return None if the loop terminates without returning\n",
    "    if not flights:\n",
    "        return itinerary\n",
    "    \n",
    "    previous_stop = itinerary[-1]\n",
    "    for k, (origin,destination) in enumerate (flights):\n",
    "        other_flights = flights[:k] + flight [k + 1:]\n",
    "        itinerary.append(destination)\n",
    "        if origin == previous_stop:\n",
    "            return get_itinerary (other_flights,itinerary)\n",
    "        itinerary.pop()\n",
    "    return None\n"
   ]
  },
  {
   "cell_type": "code",
   "execution_count": 57,
   "metadata": {
    "collapsed": true
   },
   "outputs": [],
   "source": [
    "def get_itinerary(flights, itinerary):\n",
    "    '''Returns a list of airports (vertices) comprising a traversal of the edges\n",
    "    listed in the input flights.\n",
    "    INPUT:\n",
    "      flight: list of tuples of the form (origin, destination) (i.e., airports)\n",
    "      itinerary: list of destinations (airports)\n",
    "    OUTPUT:\n",
    "      list of airports traversing all edges in flights or None\n",
    "    EXAMPLE:\n",
    "    >>> flights = [('ORD','EWR'), ('YVR','SFO'), ('SFO','ORD'), ('YUL','YVR')]\n",
    "    >>> print(get_itinerary(flights, ['YUL']))\n",
    "    ['YUL', 'YVR', 'SFO', 'ORD', 'EWR']\n",
    "    >>> print(get_itinerary(flights, ['SFO']))\n",
    "    None\n",
    "    '''\n",
    "    # If flights is empty, return itinerary (you're done)\n",
    "    # Extract the previous stop from the itinerary\n",
    "    # Loop over the list of flights:\n",
    "        # Copy flights excluding current one to mark it as used\n",
    "        # Append the destination (second ordinate) from tuple to itinerary\n",
    "        # When the origin (1st ordinate) matches the previous stop, return\n",
    "        #    the result of a recursive call to get_itinerary using the current\n",
    "        #    itinerary and the copy of flights that excludes the current one.)\n",
    "        # Pop the last entry from the itinerary\n",
    "    # Return None if the loop terminates without returning\n",
    "    if not flights:\n",
    "        return itinerary\n",
    "    \n",
    "    previous_stop = itinerary[-1]\n",
    "    for k, (origin, destination) in enumerate (flights):\n",
    "        other_flights = flights[:k] + flights [k + 1:]\n",
    "        itinerary.append(destination)\n",
    "        if origin == previous_stop:\n",
    "            return get_itinerary (other_flights,itinerary)\n",
    "        itinerary.pop()\n",
    "    return None\n",
    "\n"
   ]
  },
  {
   "cell_type": "code",
   "execution_count": null,
   "metadata": {
    "collapsed": true,
    "deletable": false,
    "editable": false,
    "nbgrader": {
     "grade": true,
     "grade_id": "Q-18",
     "locked": true,
     "points": "10",
     "solution": false
    }
   },
   "outputs": [],
   "source": [
    "###\n",
    "### AUTOGRADER TEST - DO NOT REMOVE\n",
    "###\n"
   ]
  },
  {
   "cell_type": "code",
   "execution_count": null,
   "metadata": {
    "collapsed": true
   },
   "outputs": [],
   "source": []
  },
  {
   "cell_type": "markdown",
   "metadata": {
    "deletable": false,
    "editable": false,
    "nbgrader": {
     "grade": false,
     "locked": true,
     "solution": false
    }
   },
   "source": [
    "[Back to top](#Assignment-Contents)\n",
    "\n",
    "---\n",
    "## References\n",
    "\n",
    "+ [*Artificial Neural Network* ](https://en.wikipedia.org/wiki/Artificial_neural_network) (Wikipedia)\n",
    "+ [Neural Networks & Deep Learning](http://neuralnetworksanddeeplearning.com/) by Michael Nielsen\n",
    "+ [Keras documentation](https://keras.io)\n",
    "+ [*Constraint Satisfaction Problems*](https://en.wikipedia.org/wiki/Constraint_satisfaction_problem) (Wikipedia)\n",
    "+ [`python-constraint`](https://labix.org/python-constraint)"
   ]
  }
 ],
 "metadata": {
  "celltoolbar": "Edit Metadata",
  "kernelspec": {
   "display_name": "Python 3 [3.6]",
   "language": "python",
   "name": "python3"
  },
  "language_info": {
   "codemirror_mode": {
    "name": "ipython",
    "version": 3
   },
   "file_extension": ".py",
   "mimetype": "text/x-python",
   "name": "python",
   "nbconvert_exporter": "python",
   "pygments_lexer": "ipython3",
   "version": "3.6.4"
  }
 },
 "nbformat": 4,
 "nbformat_minor": 4
}
